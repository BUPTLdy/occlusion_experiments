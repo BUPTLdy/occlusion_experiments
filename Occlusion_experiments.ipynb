{
 "cells": [
  {
   "cell_type": "code",
   "execution_count": 7,
   "metadata": {
    "collapsed": true
   },
   "outputs": [],
   "source": [
    "import numpy as np\n",
    "import matplotlib.pyplot as plt\n",
    "%matplotlib inline\n",
    "import copy\n",
    "import caffe                            \n",
    "import math\n",
    "import seaborn as sns\n",
    "caffe.set_mode_cpu()\n",
    "caffe_root='/home/ldy/workspace/caffe/'  #set your caffe_root"
   ]
  },
  {
   "cell_type": "code",
   "execution_count": 4,
   "metadata": {
    "collapsed": false
   },
   "outputs": [
    {
     "name": "stdout",
     "output_type": "stream",
     "text": [
      "load the structure of the model...\n",
      "load the weights of the model...\n",
      "build the net...\n"
     ]
    }
   ],
   "source": [
    "print 'load the structure of your model...'\n",
    "model_def = caffe_root + 'models/finetune_UCMerced_LandUse/deploy1.prototxt'\n",
    "print 'load the weights of your model...'\n",
    "model_weights = caffe_root + 'models/finetune_UCMerced_LandUse/weights_finally.pretrained.caffemodel'\n",
    "print 'build the net...'\n",
    "net = caffe.Net(model_def,      # defines the structure of the model\n",
    "                model_weights,  # contains the trained weights\n",
    "                caffe.TEST)     # use test mode (e.g., don't perform dropout)\n",
    "\n",
    "# load the mean ImageNet image for subtraction\n",
    "mu = np.load('/home/ldy/workspace/caffe/examples/finetune_UCMerced_LandUse/mean.npy')\n",
    "mu = mu.mean(1).mean(1)  # average over pixels to obtain the mean (BGR) pixel values\n",
    "#print 'mean-subtracted values:', zip('BGR', mu),mu\n",
    "\n",
    "# create trasformer for the input called 'data'\n",
    "transformer = caffe.io.Transformer({'data': net.blobs['data'].data.shape})\n",
    "\n",
    "transformer.set_transpose('data', (2,0,1))  # move image channels to outermost dimension\n",
    "transformer.set_mean('data', mu)            # subtract the dataset-mean value in each channel\n",
    "transformer.set_raw_scale('data', 255)      # rescale from [0, 1] to [0, 255]\n",
    "transformer.set_channel_swap('data', (2,1,0))  # swap channels from RGB to BGR\n",
    "\n"
   ]
  },
  {
   "cell_type": "code",
   "execution_count": 8,
   "metadata": {
    "collapsed": false
   },
   "outputs": [
    {
     "name": "stdout",
     "output_type": "stream",
     "text": [
      "(256, 256, 3)\n",
      "32 32\n"
     ]
    },
    {
     "data": {
      "image/png": "[encoded data removed]",
      "text/plain": [
       "<matplotlib.figure.Figure at 0x7fc65f609950>"
      ]
     },
     "metadata": {},
     "output_type": "display_data"
    }
   ],
   "source": [
    "def Occlusion_exp():\n",
    "    image_url = '/home/ldy/workspace/caffe/data/UCMerced_LandUse/Images/airplane/airplane80.tif'\n",
    "    image = caffe.io.load_image(image_url)\n",
    "    plt.imshow(image)\n",
    "    plt.show()\n",
    "    \n",
    "    occluding_size = 100\n",
    "    occluding_pixel = 0\n",
    "    occluding_stride = 5\n",
    "\n",
    "    height, width, _ = image.shape\n",
    "    \n",
    "    output_height = int(math.ceil((height-occluding_size)/occluding_stride+1))\n",
    "    output_width = int(math.ceil((width-occluding_size)/occluding_stride+1))\n",
    "\n",
    "    heatmap = np.zeros((output_height, output_width))\n",
    "    \n",
    "\n",
    "    for h in xrange(output_height):\n",
    "        for w in xrange(output_width):\n",
    "            #occluder region\n",
    "            h_start = h*occluding_stride\n",
    "            w_start = w*occluding_stride\n",
    "            h_end = min(height, h_start + occluding_size)\n",
    "            w_end = min(width, w_start + occluding_size)\n",
    "            \n",
    "            input_image = copy.copy(image)\n",
    "            input_image[h_start:h_end,w_start:w_end,:] =  occluding_pixel\n",
    "            #plt.imshow(input_image)\n",
    "            #plt.show()\n",
    "            transformer_image = transformer.preprocess('data', input_image)\n",
    "            net.blobs['data'].data[0, ...] = transformer_image\n",
    "            probs = net.forward(start='conv1')['probs'][0]\n",
    "            heatmap[h,w] = probs[3] #the probability of the correct class\n",
    "            \n",
    "    ax = sns.heatmap(heatmap,xticklabels=False, yticklabels=False)\n",
    "    plt.show()\n",
    "\n",
    "Occlusion_exp()"
   ]
  },
  {
   "cell_type": "code",
   "execution_count": null,
   "metadata": {
    "collapsed": true
   },
   "outputs": [],
   "source": []
  }
 ],
 "metadata": {
  "kernelspec": {
   "display_name": "Python 2",
   "language": "python",
   "name": "python2"
  },
  "language_info": {
   "codemirror_mode": {
    "name": "ipython",
    "version": 2
   },
   "file_extension": ".py",
   "mimetype": "text/x-python",
   "name": "python",
   "nbconvert_exporter": "python",
   "pygments_lexer": "ipython2",
   "version": "2.7.11+"
  }
 },
 "nbformat": 4,
 "nbformat_minor": 1
}
